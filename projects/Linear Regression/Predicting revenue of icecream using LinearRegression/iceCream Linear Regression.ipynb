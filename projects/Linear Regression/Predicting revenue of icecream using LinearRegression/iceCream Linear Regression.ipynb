{
 "cells": [
  {
   "cell_type": "markdown",
   "metadata": {},
   "source": [
    "## Using linear regression to predict revenue of Icecream wrt the temperature  "
   ]
  },
  {
   "cell_type": "code",
   "execution_count": 1,
   "metadata": {},
   "outputs": [],
   "source": [
    "import pandas as pd\n",
    "import numpy as np\n",
    "import matplotlib.pyplot as plt\n",
    "import seaborn as sns"
   ]
  },
  {
   "cell_type": "code",
   "execution_count": 2,
   "metadata": {},
   "outputs": [],
   "source": [
    "d = pd.read_csv('IceCreamData.csv')"
   ]
  },
  {
   "cell_type": "code",
   "execution_count": 3,
   "metadata": {},
   "outputs": [
    {
     "data": {
      "text/html": [
       "<div>\n",
       "<style scoped>\n",
       "    .dataframe tbody tr th:only-of-type {\n",
       "        vertical-align: middle;\n",
       "    }\n",
       "\n",
       "    .dataframe tbody tr th {\n",
       "        vertical-align: top;\n",
       "    }\n",
       "\n",
       "    .dataframe thead th {\n",
       "        text-align: right;\n",
       "    }\n",
       "</style>\n",
       "<table border=\"1\" class=\"dataframe\">\n",
       "  <thead>\n",
       "    <tr style=\"text-align: right;\">\n",
       "      <th></th>\n",
       "      <th>Temperature</th>\n",
       "      <th>Revenue</th>\n",
       "    </tr>\n",
       "  </thead>\n",
       "  <tbody>\n",
       "    <tr>\n",
       "      <th>0</th>\n",
       "      <td>24.566884</td>\n",
       "      <td>534.799028</td>\n",
       "    </tr>\n",
       "    <tr>\n",
       "      <th>1</th>\n",
       "      <td>26.005191</td>\n",
       "      <td>625.190122</td>\n",
       "    </tr>\n",
       "    <tr>\n",
       "      <th>2</th>\n",
       "      <td>27.790554</td>\n",
       "      <td>660.632289</td>\n",
       "    </tr>\n",
       "    <tr>\n",
       "      <th>3</th>\n",
       "      <td>20.595335</td>\n",
       "      <td>487.706960</td>\n",
       "    </tr>\n",
       "    <tr>\n",
       "      <th>4</th>\n",
       "      <td>11.503498</td>\n",
       "      <td>316.240194</td>\n",
       "    </tr>\n",
       "  </tbody>\n",
       "</table>\n",
       "</div>"
      ],
      "text/plain": [
       "   Temperature     Revenue\n",
       "0    24.566884  534.799028\n",
       "1    26.005191  625.190122\n",
       "2    27.790554  660.632289\n",
       "3    20.595335  487.706960\n",
       "4    11.503498  316.240194"
      ]
     },
     "execution_count": 3,
     "metadata": {},
     "output_type": "execute_result"
    }
   ],
   "source": [
    "d.head()"
   ]
  },
  {
   "cell_type": "code",
   "execution_count": 4,
   "metadata": {
    "scrolled": true
   },
   "outputs": [
    {
     "data": {
      "text/html": [
       "<div>\n",
       "<style scoped>\n",
       "    .dataframe tbody tr th:only-of-type {\n",
       "        vertical-align: middle;\n",
       "    }\n",
       "\n",
       "    .dataframe tbody tr th {\n",
       "        vertical-align: top;\n",
       "    }\n",
       "\n",
       "    .dataframe thead th {\n",
       "        text-align: right;\n",
       "    }\n",
       "</style>\n",
       "<table border=\"1\" class=\"dataframe\">\n",
       "  <thead>\n",
       "    <tr style=\"text-align: right;\">\n",
       "      <th></th>\n",
       "      <th>Temperature</th>\n",
       "      <th>Revenue</th>\n",
       "    </tr>\n",
       "  </thead>\n",
       "  <tbody>\n",
       "    <tr>\n",
       "      <th>count</th>\n",
       "      <td>500.000000</td>\n",
       "      <td>500.000000</td>\n",
       "    </tr>\n",
       "    <tr>\n",
       "      <th>mean</th>\n",
       "      <td>22.232225</td>\n",
       "      <td>521.570777</td>\n",
       "    </tr>\n",
       "    <tr>\n",
       "      <th>std</th>\n",
       "      <td>8.096388</td>\n",
       "      <td>175.404751</td>\n",
       "    </tr>\n",
       "    <tr>\n",
       "      <th>min</th>\n",
       "      <td>0.000000</td>\n",
       "      <td>10.000000</td>\n",
       "    </tr>\n",
       "    <tr>\n",
       "      <th>25%</th>\n",
       "      <td>17.122258</td>\n",
       "      <td>405.558681</td>\n",
       "    </tr>\n",
       "    <tr>\n",
       "      <th>50%</th>\n",
       "      <td>22.392791</td>\n",
       "      <td>529.368565</td>\n",
       "    </tr>\n",
       "    <tr>\n",
       "      <th>75%</th>\n",
       "      <td>27.740674</td>\n",
       "      <td>642.257922</td>\n",
       "    </tr>\n",
       "    <tr>\n",
       "      <th>max</th>\n",
       "      <td>45.000000</td>\n",
       "      <td>1000.000000</td>\n",
       "    </tr>\n",
       "  </tbody>\n",
       "</table>\n",
       "</div>"
      ],
      "text/plain": [
       "       Temperature      Revenue\n",
       "count   500.000000   500.000000\n",
       "mean     22.232225   521.570777\n",
       "std       8.096388   175.404751\n",
       "min       0.000000    10.000000\n",
       "25%      17.122258   405.558681\n",
       "50%      22.392791   529.368565\n",
       "75%      27.740674   642.257922\n",
       "max      45.000000  1000.000000"
      ]
     },
     "execution_count": 4,
     "metadata": {},
     "output_type": "execute_result"
    }
   ],
   "source": [
    "d.describe()"
   ]
  },
  {
   "cell_type": "code",
   "execution_count": 5,
   "metadata": {},
   "outputs": [
    {
     "name": "stdout",
     "output_type": "stream",
     "text": [
      "<class 'pandas.core.frame.DataFrame'>\n",
      "RangeIndex: 500 entries, 0 to 499\n",
      "Data columns (total 2 columns):\n",
      "Temperature    500 non-null float64\n",
      "Revenue        500 non-null float64\n",
      "dtypes: float64(2)\n",
      "memory usage: 7.9 KB\n"
     ]
    }
   ],
   "source": [
    "d.info()"
   ]
  },
  {
   "cell_type": "code",
   "execution_count": 6,
   "metadata": {},
   "outputs": [
    {
     "data": {
      "text/plain": [
       "False"
      ]
     },
     "execution_count": 6,
     "metadata": {},
     "output_type": "execute_result"
    }
   ],
   "source": [
    "d.isnull().values.any()\n",
    "# no missing (nan) values in the datastet"
   ]
  },
  {
   "cell_type": "code",
   "execution_count": 7,
   "metadata": {},
   "outputs": [],
   "source": [
    "d_n = d.head(25)"
   ]
  },
  {
   "cell_type": "markdown",
   "metadata": {},
   "source": [
    "### Data Visualistion"
   ]
  },
  {
   "cell_type": "code",
   "execution_count": 8,
   "metadata": {},
   "outputs": [
    {
     "data": {
      "text/plain": [
       "[]"
      ]
     },
     "execution_count": 8,
     "metadata": {},
     "output_type": "execute_result"
    },
    {
     "data": {
      "image/png": "[encoded data removed]",
      "text/plain": [
       "<Figure size 432x288 with 1 Axes>"
      ]
     },
     "metadata": {},
     "output_type": "display_data"
    }
   ],
   "source": [
    "plt.scatter(d_n['Temperature'],d_n['Revenue'])\n",
    "plt.title('Temp vs Rev')\n",
    "plt.xlabel('Temperature')\n",
    "plt.ylabel('Revenue')\n",
    "plt.plot()"
   ]
  },
  {
   "cell_type": "code",
   "execution_count": 9,
   "metadata": {},
   "outputs": [
    {
     "data": {
      "text/plain": [
       "<seaborn.axisgrid.JointGrid at 0x19c82c4f5c0>"
      ]
     },
     "execution_count": 9,
     "metadata": {},
     "output_type": "execute_result"
    },
    {
     "data": {
      "image/png": "[encoded data removed]",
      "text/plain": [
       "<Figure size 432x432 with 3 Axes>"
      ]
     },
     "metadata": {},
     "output_type": "display_data"
    }
   ],
   "source": [
    "sns.jointplot(d['Temperature'], d['Revenue'], color = 'gray')"
   ]
  },
  {
   "cell_type": "code",
   "execution_count": 10,
   "metadata": {},
   "outputs": [
    {
     "data": {
      "text/plain": [
       "<seaborn.axisgrid.PairGrid at 0x19c84043908>"
      ]
     },
     "execution_count": 10,
     "metadata": {},
     "output_type": "execute_result"
    },
    {
     "data": {
      "image/png": "[encoded data removed]",
      "text/plain": [
       "<Figure size 360x360 with 6 Axes>"
      ]
     },
     "metadata": {},
     "output_type": "display_data"
    }
   ],
   "source": [
    "sns.pairplot(d)"
   ]
  },
  {
   "cell_type": "code",
   "execution_count": 11,
   "metadata": {
    "scrolled": true
   },
   "outputs": [
    {
     "data": {
      "text/plain": [
       "<seaborn.axisgrid.FacetGrid at 0x19c841e2ba8>"
      ]
     },
     "execution_count": 11,
     "metadata": {},
     "output_type": "execute_result"
    },
    {
     "data": {
      "image/png": "[encoded data removed]",
      "text/plain": [
       "<Figure size 360x360 with 1 Axes>"
      ]
     },
     "metadata": {},
     "output_type": "display_data"
    }
   ],
   "source": [
    "sns.lmplot(x = 'Temperature', y = 'Revenue', data = d)"
   ]
  },
  {
   "cell_type": "markdown",
   "metadata": {},
   "source": [
    "### Training and Testing dataset "
   ]
  },
  {
   "cell_type": "code",
   "execution_count": 12,
   "metadata": {},
   "outputs": [],
   "source": [
    "X = d[['Temperature']]\n",
    "y = d[['Revenue']]"
   ]
  },
  {
   "cell_type": "code",
   "execution_count": 13,
   "metadata": {},
   "outputs": [],
   "source": [
    "from sklearn.model_selection import train_test_split\n",
    "X_train, X_test, y_train, y_test = train_test_split(X, y, test_size=0.33, random_state=42)"
   ]
  },
  {
   "cell_type": "code",
   "execution_count": 14,
   "metadata": {},
   "outputs": [
    {
     "name": "stdout",
     "output_type": "stream",
     "text": [
      "(335, 1) (335, 1) (165, 1) (165, 1)\n"
     ]
    }
   ],
   "source": [
    "print(X_train.shape, y_train.shape, X_test.shape, y_test.shape)"
   ]
  },
  {
   "cell_type": "markdown",
   "metadata": {},
   "source": [
    "### Training the model"
   ]
  },
  {
   "cell_type": "code",
   "execution_count": 15,
   "metadata": {},
   "outputs": [
    {
     "data": {
      "text/plain": [
       "LinearRegression(copy_X=True, fit_intercept=True, n_jobs=1, normalize=False)"
      ]
     },
     "execution_count": 15,
     "metadata": {},
     "output_type": "execute_result"
    }
   ],
   "source": [
    "from sklearn.linear_model import LinearRegression\n",
    "regressor = LinearRegression(fit_intercept = True)\n",
    "# by fir_intercept I'm asking resgressor to know there can be a y intercept. there is a b value to return in y = mx+b. otherwise,\n",
    "#it would mean that the line is being forced to go throughthe origin\n",
    "regressor.fit(X_train, y_train)"
   ]
  },
  {
   "cell_type": "code",
   "execution_count": 16,
   "metadata": {},
   "outputs": [
    {
     "name": "stdout",
     "output_type": "stream",
     "text": [
      "slope is  [[21.47218099]]\n",
      "intercept is  [44.12830741]\n"
     ]
    }
   ],
   "source": [
    "print(\"slope is \", (regressor.coef_))\n",
    "print(\"intercept is \", (regressor.intercept_))"
   ]
  },
  {
   "cell_type": "markdown",
   "metadata": {},
   "source": [
    "### Testing the model"
   ]
  },
  {
   "cell_type": "code",
   "execution_count": 17,
   "metadata": {},
   "outputs": [],
   "source": [
    "y_pred = regressor.predict(X_test)"
   ]
  },
  {
   "cell_type": "code",
   "execution_count": 22,
   "metadata": {
    "scrolled": true
   },
   "outputs": [
    {
     "data": {
      "text/plain": [
       "array([[681.94190167],\n",
       "       [631.93787265],\n",
       "       [559.13085679],\n",
       "       [498.13711001],\n",
       "       [615.18212148],\n",
       "       [303.13595963],\n",
       "       [284.12613449],\n",
       "       [314.06612643],\n",
       "       [505.52632457],\n",
       "       [685.71649315],\n",
       "       [724.14078282],\n",
       "       [399.66356288],\n",
       "       [430.56346674],\n",
       "       [671.3245912 ],\n",
       "       [ 49.86197447],\n",
       "       [196.74164074],\n",
       "       [522.41897592],\n",
       "       [563.41018537],\n",
       "       [583.42510634],\n",
       "       [682.24966609],\n",
       "       [555.70135268],\n",
       "       [784.32096347],\n",
       "       [655.33249987],\n",
       "       [569.60480008],\n",
       "       [913.19312858],\n",
       "       [664.67845475],\n",
       "       [314.42349181],\n",
       "       [630.79816707],\n",
       "       [731.32760274],\n",
       "       [698.10093105],\n",
       "       [434.04629658],\n",
       "       [470.33479779],\n",
       "       [710.41722934],\n",
       "       [800.31926026],\n",
       "       [640.85211021],\n",
       "       [492.86932503],\n",
       "       [745.19364711],\n",
       "       [316.57656537],\n",
       "       [260.92528725],\n",
       "       [129.72765441],\n",
       "       [582.14130418],\n",
       "       [228.50881207],\n",
       "       [546.73316561],\n",
       "       [391.79077827],\n",
       "       [435.63547567],\n",
       "       [592.65590291],\n",
       "       [571.6328961 ],\n",
       "       [122.81675585],\n",
       "       [473.92373564],\n",
       "       [529.81434891],\n",
       "       [622.94787178],\n",
       "       [502.73166675],\n",
       "       [483.77169722],\n",
       "       [497.81671673],\n",
       "       [550.67913172],\n",
       "       [630.59393743],\n",
       "       [572.6711671 ],\n",
       "       [679.47898948],\n",
       "       [169.14648132],\n",
       "       [660.40731028],\n",
       "       [583.33912765],\n",
       "       [704.67142723],\n",
       "       [535.2091543 ],\n",
       "       [629.91224764],\n",
       "       [676.78005528],\n",
       "       [410.22335925],\n",
       "       [508.1559616 ],\n",
       "       [493.92569686],\n",
       "       [731.33182654],\n",
       "       [311.09493014],\n",
       "       [316.92630619],\n",
       "       [453.52960307],\n",
       "       [796.37302253],\n",
       "       [423.25915877],\n",
       "       [519.79270122],\n",
       "       [688.89941224],\n",
       "       [805.49182556],\n",
       "       [447.23698911],\n",
       "       [492.90923194],\n",
       "       [492.82429722],\n",
       "       [545.48299554],\n",
       "       [520.19230237],\n",
       "       [663.16611235],\n",
       "       [547.10657135],\n",
       "       [588.96576968],\n",
       "       [697.47936101],\n",
       "       [237.20100796],\n",
       "       [626.40531785],\n",
       "       [585.04313417],\n",
       "       [768.69006407],\n",
       "       [427.8619284 ],\n",
       "       [521.35015559],\n",
       "       [610.34428451],\n",
       "       [352.49940607],\n",
       "       [561.89981778],\n",
       "       [580.08351428],\n",
       "       [640.63622139],\n",
       "       [662.31457762],\n",
       "       [412.00679072],\n",
       "       [441.00165606],\n",
       "       [433.82589688],\n",
       "       [232.13881074],\n",
       "       [511.70540394],\n",
       "       [440.07493047],\n",
       "       [384.31254348],\n",
       "       [757.77067824],\n",
       "       [620.86513872],\n",
       "       [135.09445008],\n",
       "       [672.01249718],\n",
       "       [461.40294724],\n",
       "       [657.11586006],\n",
       "       [805.20001905],\n",
       "       [577.04107608],\n",
       "       [451.63380531],\n",
       "       [418.92869697],\n",
       "       [548.67156933],\n",
       "       [575.07424234],\n",
       "       [686.56112243],\n",
       "       [673.52114615],\n",
       "       [447.27619431],\n",
       "       [576.69372533],\n",
       "       [501.96657558],\n",
       "       [368.74896131],\n",
       "       [468.30497927],\n",
       "       [476.86458466],\n",
       "       [622.67739101],\n",
       "       [634.97070355],\n",
       "       [268.45088988],\n",
       "       [387.51888013],\n",
       "       [944.33761003],\n",
       "       [371.1751784 ],\n",
       "       [724.11974802],\n",
       "       [244.02026104],\n",
       "       [655.90861009],\n",
       "       [832.21257887],\n",
       "       [829.34696472],\n",
       "       [493.6399921 ],\n",
       "       [556.92102431],\n",
       "       [957.02410333],\n",
       "       [251.36696025],\n",
       "       [469.65410002],\n",
       "       [558.94384848],\n",
       "       [441.54317158],\n",
       "       [309.35442671],\n",
       "       [719.88413207],\n",
       "       [441.49745237],\n",
       "       [393.23850185],\n",
       "       [599.5265235 ],\n",
       "       [550.3803504 ],\n",
       "       [605.02757495],\n",
       "       [352.30808314],\n",
       "       [600.79827139],\n",
       "       [380.73666523],\n",
       "       [601.01737653],\n",
       "       [304.43585841],\n",
       "       [478.81435703],\n",
       "       [486.35506921],\n",
       "       [430.47769418],\n",
       "       [158.09206579],\n",
       "       [394.17971322],\n",
       "       [589.93615916],\n",
       "       [651.76289601],\n",
       "       [639.36808426],\n",
       "       [798.23455519],\n",
       "       [662.38022001]])"
      ]
     },
     "execution_count": 22,
     "metadata": {},
     "output_type": "execute_result"
    }
   ],
   "source": [
    "y_pred"
   ]
  },
  {
   "cell_type": "markdown",
   "metadata": {},
   "source": [
    "### Visualising Training set results"
   ]
  },
  {
   "cell_type": "code",
   "execution_count": 19,
   "metadata": {},
   "outputs": [
    {
     "data": {
      "image/png": "[encoded data removed]",
      "text/plain": [
       "<Figure size 432x288 with 1 Axes>"
      ]
     },
     "metadata": {},
     "output_type": "display_data"
    }
   ],
   "source": [
    "plt.scatter(X_train, y_train, color='red')\n",
    "plt.plot(X_train, regressor.predict(X_train))\n",
    "plt.title('Temp vs Rev (Training Set)')\n",
    "plt.xlabel('Temperature')\n",
    "plt.ylabel('Revenue')\n",
    "plt.show()"
   ]
  },
  {
   "cell_type": "markdown",
   "metadata": {},
   "source": [
    "### Visualising test set reuslts"
   ]
  },
  {
   "cell_type": "code",
   "execution_count": 20,
   "metadata": {},
   "outputs": [
    {
     "data": {
      "image/png": "[encoded data removed]",
      "text/plain": [
       "<Figure size 432x288 with 1 Axes>"
      ]
     },
     "metadata": {},
     "output_type": "display_data"
    }
   ],
   "source": [
    "plt.scatter(X_test, y_test, color='red')\n",
    "plt.plot(X_train, regressor.predict(X_train))\n",
    "# didnot change the prediction line as we want to compare prediction made in training set how close they are in test set\n",
    "plt.title('Temp vs Rev (Test Set)')\n",
    "plt.xlabel('Temperature')\n",
    "plt.ylabel('Revenue')\n",
    "plt.show()"
   ]
  },
  {
   "cell_type": "code",
   "execution_count": 21,
   "metadata": {},
   "outputs": [
    {
     "data": {
      "image/png": "[encoded data removed]",
      "text/plain": [
       "<Figure size 432x288 with 1 Axes>"
      ]
     },
     "metadata": {},
     "output_type": "display_data"
    }
   ],
   "source": [
    "plt.scatter(X_test, y_test, color='red')\n",
    "plt.plot(X_test, regressor.predict(X_test))\n",
    "\n",
    "plt.title('Temp vs Rev (Test Set)')\n",
    "plt.xlabel('Temperature')\n",
    "plt.ylabel('Revenue')\n",
    "plt.show()"
   ]
  },
  {
   "cell_type": "code",
   "execution_count": 25,
   "metadata": {
    "scrolled": true
   },
   "outputs": [
    {
     "data": {
      "text/plain": [
       "612.5736562767107"
      ]
     },
     "execution_count": 25,
     "metadata": {},
     "output_type": "execute_result"
    }
   ],
   "source": [
    "from sklearn.metrics import mean_squared_error\n",
    "mean_squared_error(y_pred, y_test)"
   ]
  },
  {
   "cell_type": "markdown",
   "metadata": {},
   "source": [
    "### Predicting a value"
   ]
  },
  {
   "cell_type": "code",
   "execution_count": 29,
   "metadata": {},
   "outputs": [
    {
     "name": "stdout",
     "output_type": "stream",
     "text": [
      "[[688.29373719]]\n"
     ]
    }
   ],
   "source": [
    "y_35 = regressor.predict(30)\n",
    "print(y_35)"
   ]
  },
  {
   "cell_type": "code",
   "execution_count": null,
   "metadata": {},
   "outputs": [],
   "source": []
  }
 ],
 "metadata": {
  "kernelspec": {
   "display_name": "Python 3",
   "language": "python",
   "name": "python3"
  },
  "language_info": {
   "codemirror_mode": {
    "name": "ipython",
    "version": 3
   },
   "file_extension": ".py",
   "mimetype": "text/x-python",
   "name": "python",
   "nbconvert_exporter": "python",
   "pygments_lexer": "ipython3",
   "version": "3.6.5"
  }
 },
 "nbformat": 4,
 "nbformat_minor": 2
}
